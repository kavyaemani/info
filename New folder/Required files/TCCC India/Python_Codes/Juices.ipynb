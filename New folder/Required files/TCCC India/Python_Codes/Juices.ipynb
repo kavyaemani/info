{
  "nbformat": 4,
  "nbformat_minor": 0,
  "metadata": {
    "colab": {
      "name": "Juices.ipynb",
      "provenance": [],
      "collapsed_sections": []
    },
    "kernelspec": {
      "name": "python3",
      "display_name": "Python 3"
    }
  },
  "cells": [
    {
      "cell_type": "code",
      "metadata": {
        "id": "F7u5tqw-dP8R",
        "colab_type": "code",
        "colab": {}
      },
      "source": [
        "# 'WB', 'DE', 'MH', 'AP', 'UP', 'PU', 'KA', 'GU', 'RA', 'MP', 'OR', 'TN', 'BI', 'CH', 'HA'\n",
        "# all_state = ['WB', 'MH', 'AP','UP', 'PU', 'KA', 'GU', 'RA', 'MP', 'OR', 'BI', 'CH','TN']\n",
        "\n",
        "all_state = ['WB','DE', 'MH', 'AP', 'UP', 'PU', 'KA', 'GU', 'RA', 'MP', 'OR', 'BI', 'CH','HA','TN']\n",
        "sta_len = len(all_state) "
      ],
      "execution_count": 0,
      "outputs": []
    },
    {
      "cell_type": "code",
      "metadata": {
        "id": "Z4arRLAxdVAV",
        "colab_type": "code",
        "colab": {}
      },
      "source": [
        "import pandas as pd\n",
        "import numpy  as np\n",
        "# all_state=['HA']"
      ],
      "execution_count": 0,
      "outputs": []
    },
    {
      "cell_type": "code",
      "metadata": {
        "id": "65KmPnWyKLiM",
        "colab_type": "code",
        "outputId": "7cdc32a5-1856-4b95-b0ee-334ac917cdb4",
        "colab": {
          "base_uri": "https://localhost:8080/",
          "height": 1000
        }
      },
      "source": [
        "##### reading the file ##########################################################\n",
        "for sta in range(sta_len):\n",
        "  \n",
        "  ##### RAW data ######################################################################################\n",
        "  coke_raw = pd.read_excel('CCI_Juices_consolidated.xlsx',sheet_name=all_state[sta])    #### load raw data here\n",
        "  dt_raw   = coke_raw.copy()\n",
        "  dt_raw   = dt_raw[dt_raw['Date'] >='2015-01-01'].reset_index(drop=True)  ## date change according to model, format:- YYYY-MM-DD\n",
        "  power_bi = dt_raw.copy()\n",
        "  power_bi['Category'] = 'Juices'                      # enter category name as needed for power BI\n",
        "  ##### transformed Data ###############################################################################\n",
        "  coke_ols = pd.read_excel('Juices_Ensemble_Data.xlsx',sheet_name=all_state[sta])   #### load transformed data here\n",
        "  dt_ols   = coke_ols.copy()\n",
        "  dt_ols   = dt_ols[dt_ols['Date'] >='2015-01-01'].reset_index(drop=True)  ## date change according to model, format:- YYYY-MM-DD\n",
        "  ##### coefficient data ###############################################################################\n",
        "  coef_ols = pd.read_excel('coeff_Juices.xlsx', sheet_name =all_state[sta])  #### coefficient data here \n",
        "  dt_coef  = coef_ols.copy() \n",
        "  ######################################################################################################\n",
        "  seed     = pd.read_excel(\"Seed_results_Juices.xlsx\",sheet_name=all_state[sta])  \n",
        "  rf_seed  = seed.at[0,'RF']               # rf  seed\n",
        "  ann_seed = seed.at[0,'ANN']              # ann seed          \n",
        "  ############################### Dynamic Coefficients ################################################\n",
        "\n",
        "  ##########################################################################################################\n",
        "  date1 = '2019-01-01'       # date from which dynamic callculations be calculated, format = 'YYYY-MM-DD'\n",
        "  date2 = '2018-01-01'       # year back as that of 'date1' \n",
        "\n",
        "  due_to = 4                 # mention number of variables(features no. for elasticity calculation) and used in column selection in Due-to\n",
        "  trans  = [0,0,1,0]         # this array is for log transformation, enter for main features for which we calculate elasticity\n",
        "  \n",
        "  \n",
        "  ##############################################################################################################################################\n",
        "  ##############################################################################################################################################\n",
        "  ####### train and test data for rf+ann model ###########################################\n",
        "  z = coke_ols['VolSales'].dropna().count() - 1\n",
        "  y = z - 3\n",
        "  ######## predicted ols column selection ###########################################\n",
        "  list_ols  = list(coke_ols.columns.values) \n",
        "\n",
        "  col_names = list_ols[2:-1]             # Enter column number here and it should be features\n",
        "  col_count = len(col_names)\n",
        "\n",
        "  ################################################################# OLS:- y = mx + c --- code part\n",
        "  Y = coke_ols['VolSales']\n",
        "\n",
        "  xy = 0\n",
        "  for i in range(col_count):\n",
        "    xy += coef_ols['Estimate'][i+1] * coke_ols[coke_ols.columns[i+2]]\n",
        "\n",
        "  xy = coef_ols['Estimate'][0] + xy\n",
        "\n",
        "\n",
        "  ols_mape = np.mean(np.abs ( (Y - xy)/Y ) * 100)          \n",
        "  print(\"MAPE OLS:\",abs(ols_mape))\n",
        "\n",
        "  coke_ols['OLS_Predicted'] = xy   \n",
        "  #######################################################################################################\n",
        "  ############################# RF + ANN model ##########################################################\n",
        "  #######################################################################################################\n",
        "  states_name = coke_ols['States'].unique()\n",
        "  r2_mape = []\n",
        "\n",
        "  for i in range(len(states_name)):\n",
        "      metric_train=[]\n",
        "      metric_test=[]\n",
        "      state = states_name[i]\n",
        "      print('------------------------------------------------------------------------------------------------------')\n",
        "      print('Processing for state: ',state)\n",
        "      pun_coke  = coke_ols[coke_ols['States'] == state]   # Give your state name here\n",
        "      pun_coke  = pun_coke.reset_index( )\n",
        "      #'Market',add below for 7 new states\n",
        "      pun_coke2 = pun_coke.drop(['States','index'],axis=1)  \n",
        "      x=0\n",
        "      # y=56                                                                        \n",
        "      # z=59                                                                        \n",
        "      train_1 = pun_coke2.iloc[x:y, :]\n",
        "      test_1  = pun_coke2.iloc[y:z, :]\n",
        "      forecast_train = pun_coke2.iloc[x:z, :]\n",
        "      forecast_date  = pun_coke2.iloc[z:, :]\n",
        "      train = train_1.drop(['Date'],axis=1)\n",
        "      test  = test_1.drop(['Date'],axis=1)\n",
        "      metric_train.append(str((train.columns).values.tolist()))\n",
        "      metric_test.append(str((train.columns).values.tolist()))\n",
        "      metric_train.append('TRAIN')\n",
        "      metric_test.append('TEST')\n",
        "      \n",
        "      train_target  = train[['VolSales']]\n",
        "      train_feature = train.drop(['VolSales'], axis=1)\n",
        "      test_target   = test[['VolSales']]\n",
        "      test_feature  = test.drop(['VolSales'], axis=1)\n",
        "\n",
        "      \n",
        "      print(train_feature.shape)\n",
        "      print(train_target.shape)\n",
        "      print(test_feature.shape)\n",
        "      print(test_target.shape)\n",
        "      \n",
        "      ################################## Modelling #######################################################\n",
        "      \n",
        "      def mean_absolute_percentage_error(y_true, y_pred): \n",
        "          y_true, y_pred = np.array(y_true), np.array(y_pred)\n",
        "          return np.mean(np.abs((y_true - y_pred) / y_true)*100)\n",
        "      \n",
        "  ##################################\n",
        "  ###  \n",
        "  ################################## Random Forest ###########################################\n",
        "      #n_estimators=10,random_state=42\n",
        "      #n_estimators=20,max_depth=5,min_samples_split=5,min_samples_leaf=1,\n",
        "      from sklearn.ensemble import RandomForestRegressor\n",
        "      rf = RandomForestRegressor(random_state=rf_seed)    \n",
        "      rf.fit(train_feature,train_target)\n",
        "      Train_pred_rf = rf.predict(train_feature)\n",
        "      Test_pred_rf  = rf.predict(test_feature)\n",
        "      rf.fit(pun_coke2.iloc[x:z, :].drop(['VolSales','Date'], axis=1),pun_coke2.iloc[x:z, :]['VolSales'])\n",
        "      pred_rf = rf.predict(pun_coke2.iloc[z:, :].drop(['VolSales','Date'], axis=1))\n",
        "      \n",
        "      actual_test=list(test_target['VolSales'])\n",
        "      actual_train=list(train_target['VolSales'])\n",
        "\n",
        "      Train_Results=pd.DataFrame(data=actual_train, columns=['Train_Actual'])\n",
        "      Train_Results.insert(loc=1, column='Train_Pred_RF', value=Train_pred_rf)\n",
        "      Test_Results=pd.DataFrame(data=actual_test, columns=['Test_Actual'])\n",
        "      Test_Results.insert(loc=1, column='Test_Pred_RF', value=Test_pred_rf)\n",
        "      \n",
        "\n",
        "      print(\"                           R_square for training data:\",rf.score(train_feature,train_target))\n",
        "      print(\"                           R_square for testing data:\",rf.score(test_feature,test_target))\n",
        "      print(\"                           MAPE for training data:\",mean_absolute_percentage_error(train_target['VolSales'], Train_pred_rf))\n",
        "      print(\"                           MAPE for testing data:\",mean_absolute_percentage_error(test_target['VolSales'], Test_pred_rf))\n",
        "      print(rf.feature_importances_)\n",
        "      fi=pd.DataFrame(rf.feature_importances_,index=train_feature.columns)\n",
        "      # print(fi)\n",
        "      r2_train=rf.score(train_feature,train_target)\n",
        "      r2_test=rf.score(test_feature,test_target)\n",
        "      mape_train=mean_absolute_percentage_error(train_target['VolSales'], Train_pred_rf)\n",
        "      mape_test=mean_absolute_percentage_error(test_target['VolSales'], Test_pred_rf)\n",
        "      \n",
        "\n",
        "    \n",
        "      metric_train.append(r2_train)\n",
        "      metric_train.append(mape_train)\n",
        "      metric_test.append(r2_test)\n",
        "      metric_test.append(mape_test)\n",
        "\n",
        "      rf_mape = (((mape_train)*y)+((mape_test)*(z-y)))/(z+1)\n",
        "      print(\"RF mape:-\",rf_mape)\n",
        "      \n",
        "      ################################## ANN ##############################################\n",
        "      from sklearn.metrics import r2_score\n",
        "      from sklearn.neural_network import MLPRegressor\n",
        "\n",
        "      model_ann = MLPRegressor(hidden_layer_sizes = (256),max_iter=50, batch_size=1,verbose=0,random_state=ann_seed)\n",
        "      print(model_ann.get_params(deep=True))\n",
        "      \n",
        "      model_ann.fit(train_feature, train_target)\n",
        "\n",
        "      \n",
        "      model_ann.fit(pun_coke2.iloc[x:z, :].drop(['VolSales','Date'], axis=1),pun_coke2.iloc[x:z, :]['VolSales'])\n",
        "      pred_ann = model_ann.predict(pun_coke2.iloc[z:, :].drop(['VolSales','Date'], axis=1))\n",
        "      \n",
        "      Train_pred_ann=model_ann.predict(train_feature)\n",
        "      Test_pred_ann=model_ann.predict(test_feature)\n",
        "      \n",
        "      Train_Results.insert(loc=2, column='Train_Pred_ANN', value=Train_pred_ann)\n",
        "      Test_Results.insert(loc=2, column='Test_Pred_ANN', value=Test_pred_ann)\n",
        "      \n",
        "      \n",
        "      print(\"                R_square for training data:\",r2_score(train_target['VolSales'], Train_pred_ann))\n",
        "      print(\"                R_square for testing data:\",r2_score(test_target['VolSales'], Test_pred_ann))\n",
        "      print(\"                MAPE for training data:\",mean_absolute_percentage_error(train_target['VolSales'], Train_pred_ann))\n",
        "      print(\"                MAPE for testing data:\",mean_absolute_percentage_error(test_target['VolSales'], Test_pred_ann))\n",
        "      \n",
        "      \n",
        "      mape_train=mean_absolute_percentage_error(train_target['VolSales'], Train_pred_ann)\n",
        "      mape_test=mean_absolute_percentage_error(test_target['VolSales'], Test_pred_ann)\n",
        "\n",
        "      ann_mape = (((mape_train)*y)+((mape_test)*(z-y)))/(z+1)\n",
        "      print(\"ANN mape:-\",ann_mape)\n",
        "  #############################################################################################################################\n",
        "  #########################################################\n",
        "  estimatorts_train    = [Train_pred_rf, Train_pred_ann]\n",
        "  estimatorts_test     = [Test_pred_rf, Test_pred_ann]\n",
        "  estimatorts_forecast = [pred_rf,pred_ann]\n",
        "\n",
        "  estimatorts_train    = pd.DataFrame(estimatorts_train).T\n",
        "  estimatorts_test     = pd.DataFrame(estimatorts_test).T\n",
        "  estimatorts_forecast = pd.DataFrame(estimatorts_forecast).T\n",
        "\n",
        "  estimatorts=estimatorts_train.append(estimatorts_test)\n",
        "  estimatorts=estimatorts.append(estimatorts_forecast)\n",
        "\n",
        "  estimatorts = estimatorts.rename(columns={0: 'Pred_RF',1:'Pred_ANN'})\n",
        "\n",
        "  estimatorts=estimatorts.reset_index(drop=True)\n",
        "  estimatorts['Pred_OLS'] = coke_ols['OLS_Predicted']\n",
        "  #####################################################################################################\n",
        "  #################################################################\n",
        "  ###################################################################################\n",
        "  w1=(((ols_mape+rf_mape+ann_mape)**2)/(ols_mape)**2)\n",
        "  w2=(((ols_mape+rf_mape+ann_mape)**2)/(rf_mape)**2)\n",
        "  w3=(((ols_mape+rf_mape+ann_mape)**2)/(ann_mape)**2)\n",
        "\n",
        "  w11=w1/(w1+w2+w3)\n",
        "  w22=w2/(w1+w2+w3)\n",
        "  w33=w3/(w1+w2+w3)\n",
        "\n",
        "\n",
        "  estimatorts[\"Ensemble\"] = (w11*estimatorts[\"Pred_OLS\"]) + (w22*estimatorts[\"Pred_RF\"]) + (w33*estimatorts[\"Pred_ANN\"])\n",
        "  ###########################################################################\n",
        "  e=estimatorts[\"Ensemble\"]                       \n",
        "      \n",
        "  estimatorts = estimatorts.reset_index(drop=True)\n",
        "  estimatorts[\"Ensemble\"] = estimatorts[\"Ensemble\"].reset_index(drop=True)\n",
        "  coke_ols['Ensemble']    = estimatorts[\"Ensemble\"]\n",
        "\n",
        "  e = e.reset_index(drop=True)\n",
        "  Y = Y.reset_index(drop=True)\n",
        "\n",
        "  Ensemble_MAPE=np.mean(np.abs((Y-e)/Y)*100)\n",
        "  print(\"MAPE Ensemble:\",abs(Ensemble_MAPE))\n",
        "  #######################################################################################################################\n",
        "\n",
        "  #################### part of DUE_TO ###################################################################################\n",
        "\n",
        "  #######################################################################################################################\n",
        "\n",
        "  list_df      = list(dt_raw.columns.values)    # columns number that covers raw data's features\n",
        "  dt_col_names = list_df[2:due_to+2]   \n",
        "  dt_col_count = len(dt_col_names)  \n",
        "  due_to_varb  = len(dt_col_names)              # features being used in Due_tos for loop       \n",
        "  sale_ind     = pd.DatetimeIndex(dt_raw['Date']).year.nunique()  # no. of times Sales Index calculation should repeat\n",
        "                                                                                  \n",
        "  ####################### Due-To calculations #######################################################################\n",
        "  ###################################################################################################################\n",
        "\n",
        "  ####################### Due-To calculations #######################################################################\n",
        "\n",
        "  Due_to = pd.DataFrame()\n",
        "  ##### Difference YOY  ###########################################################################################################\n",
        "  for i in range(due_to_varb):\n",
        "    Due_to[dt_col_names[i]+'_Diff_YOY'] = dt_raw[dt_col_names[i]].diff(periods = 12)\n",
        "  ##### Difference MOM  ########################################################################################################### \n",
        "  for i in range(due_to_varb):\n",
        "    Due_to[dt_col_names[i]+'_Diff_MOM'] = dt_raw[dt_col_names[i]].diff(periods = 1)\n",
        "  ##### DT of variables  ##########################################################################################################\n",
        "  for i in range(due_to_varb):\n",
        "    Due_to['DT_'+dt_col_names[i]] = (dt_coef['Estimate'][i+1] * dt_ols[dt_ols.columns[i+2]]) - (dt_coef['Estimate'][i+1] * dt_ols[dt_ols.columns[i+2]].shift(12))\n",
        "    Due_to['DT_'+dt_col_names[i]].fillna(0, inplace=True)\n",
        "  ##### % DT variables  ############################################################################################################\n",
        "  for i in range(due_to_varb):\n",
        "    Due_to['% DT_'+dt_col_names[i]] = ((Due_to['DT_'+dt_col_names[i]]).to_numpy() / (dt_ols['VolSales']).shift(12)) * 100\n",
        "  #### DT sales index  #############################################################################################################\n",
        "  import datetime\n",
        "  dt_raw['month']       = pd.DatetimeIndex(dt_raw['Date']).month\n",
        "  sales_index           = dt_raw[['Date','month','VolSales']]\n",
        "  x = sales_index.groupby(['month']).mean()\n",
        "  dt_raw['Sales']       = pd.DataFrame(np.tile((x['VolSales']/(sales_index['VolSales']).mean()),sale_ind))  \n",
        "  dt_raw['Sales_Index'] = dt_raw['Sales'].shift(12)\n",
        "  dt_raw.drop(['Sales'], axis=1, inplace=True)\n",
        "\n",
        "  for i in range(due_to_varb):\n",
        "    Due_to['DT_'+dt_col_names[i]+'_using_sales_index'] = dt_raw['Sales_Index'] * Due_to['DT_'+dt_col_names[i]]\n",
        "    Due_to['DT_'+dt_col_names[i]+'_using_sales_index'].fillna(0, inplace=True)\n",
        "\n",
        "  for i in range(1):\n",
        "    Due_to['DT Weather Sales Index'] = Due_to['DT_'+dt_col_names[i]+'_using_sales_index'] + Due_to['DT_'+dt_col_names[i+1]+'_using_sales_index'] \n",
        "  ##### DT % sales index  #############################################################################################################\n",
        "  for i in range(due_to_varb):\n",
        "    Due_to['DT_%'+dt_col_names[i]+'_sales_index'] = ((Due_to['DT_'+dt_col_names[i]+'_using_sales_index']).to_numpy() / (dt_ols['VolSales']).shift(12)) * 100\n",
        "\n",
        "  for i in range(1):\n",
        "    Due_to['DT_%Weather_Sales_Index'] = Due_to['DT_%'+dt_col_names[i]+'_sales_index'] + Due_to['DT_%'+dt_col_names[i+1]+'_sales_index']\n",
        "  ##### DT temp MOM  ##################################################################################################################\n",
        "  for i in range(due_to_varb):\n",
        "    Due_to['DT_'+dt_col_names[i]+'_MOM'] = Due_to['DT_'+dt_col_names[i]+'_using_sales_index'].diff(periods=1)\n",
        "\n",
        "  Due_to['DT_Weather_MOM'] = Due_to['DT Weather Sales Index'].diff(periods=1)\n",
        "  ##### DT ctualised rolling sums ##################################################################################################################################\n",
        "  Due_to['actualized']=coke_ols.apply(\n",
        "\tlambda row: row['VolSales'] if ~np.isnan(row['VolSales']) else row['Ensemble'],axis=1)\n",
        "\n",
        "  Due_to['actualized_3mm'] = Due_to['actualized'].rolling(3).sum().fillna(0)\n",
        "  Due_to['actualized_6mm'] = Due_to['actualized'].rolling(6).sum().fillna(0)\n",
        "  #######################################################################################################################################\n",
        "  Due_to['3MMT_VolSales'] = coke_ols['VolSales'].rolling(3).sum()\n",
        "  Due_to['3MMT_Ensemble'] = coke_ols['Ensemble'].rolling(3).sum()\n",
        "  Due_to['3MMT_VolSales'] = coke_ols['VolSales'].rolling(3).sum()\n",
        "  Due_to['6MMT_Ensemble'] = coke_ols['Ensemble'].rolling(6).sum()\n",
        "  Due_to['6MMT_VolSales'] = coke_ols['VolSales'].rolling(6).sum()\n",
        "  Due_to['3MMT_Category'] = dt_raw.iloc[:, [6]].rolling(3).sum()\n",
        "  Due_to['6MMT_Category'] = dt_raw.iloc[:, [6]].rolling(6).sum()\n",
        "  intial_rolling = coke_ols.VolSales.rolling(3-1).sum()\n",
        "  intial_rolling = intial_rolling.shift(1)\n",
        "  list1 = coke_ols.Ensemble[2:]\n",
        "  Due_to['3MMT_forecast'] = intial_rolling+list1\n",
        "  Due_to['Error']=(((Due_to['3MMT_VolSales'].to_numpy())/Due_to['3MMT_forecast'])-1)*100\n",
        "\n",
        "\n",
        "\n",
        "  ########################### power Bi DT input--part ################################################################\n",
        "\n",
        "  ########### Diff YOY #####################################################################################\n",
        "  for i in range(due_to_varb):\n",
        "    power_bi[dt_col_names[i]+'_Diff_YOY'] = Due_to[dt_col_names[i]+'_Diff_YOY']\n",
        "  ########### Diff MOM #####################################################################################\n",
        "  for i in range(due_to_varb):\n",
        "    power_bi[dt_col_names[i]+'_Diff_MOM'] = Due_to[dt_col_names[i]+'_Diff_MOM']\n",
        "  ########### DT_using sales index #########################################################################\n",
        "  for i in range(due_to_varb):\n",
        "    power_bi['DT_'+dt_col_names[i]+'_using_sales_index'] = Due_to['DT_'+dt_col_names[i]+'_using_sales_index']\n",
        "  # power_bi['DT Weather Sales Index'] = Due_to['DT Weather Sales Index']\n",
        "  ########### DT_MOM #######################################################################################\n",
        "  for i in range(due_to_varb):\n",
        "    power_bi['DT_'+dt_col_names[i]+'_MOM'] = Due_to['DT_'+dt_col_names[i]+'_MOM']\n",
        "  # power_bi['DT_Weather_MOM'] = Due_to['DT_Weather_MOM']\n",
        "  ########### DT_% sales index #############################################################################\n",
        "  for i in range(due_to_varb):\n",
        "    power_bi['DT_%'+dt_col_names[i]+'_sales_index'] = Due_to['DT_%'+dt_col_names[i]+'_sales_index']\n",
        "  # power_bi['DT_%Weather_Sales_Index'] = Due_to['DT_%Weather_Sales_Index']\n",
        "  ##########################################################################################################\n",
        "  power_bi['Ensemble'] = coke_ols['Ensemble']\n",
        "  power_bi['Actualised']     = Due_to['actualized']\n",
        "  power_bi['Actualised_3MMT'] = Due_to['actualized_3mm']\n",
        "  power_bi['Actualised_6MMT'] = Due_to['actualized_6mm']\n",
        "  power_bi['3MMT_Ensemble'] = coke_ols['Ensemble'].rolling(3).sum()\n",
        "  power_bi['3MMT_VolSales'] = coke_ols['VolSales'].rolling(3).sum()\n",
        "  power_bi['6MMT_Ensemble'] = coke_ols['Ensemble'].rolling(6).sum()\n",
        "  power_bi['6MMT_VolSales'] = coke_ols['VolSales'].rolling(6).sum()\n",
        "  power_bi['3MMT_Category'] = dt_raw.iloc[:, [6]].rolling(3).sum()\n",
        "  power_bi['6MMT_Category'] = dt_raw.iloc[:, [6]].rolling(6).sum()\n",
        "  power_bi['3MMT_forecast'] = Due_to['3MMT_forecast']\n",
        "  power_bi['Error'] = Due_to['Error']\n",
        "  \n",
        "  ##########################################################################################################\n",
        "  for i in range(due_to_varb):\n",
        "    power_bi[dt_col_names[i]+'3MMT'] = dt_raw[dt_col_names[i]].rolling(3).sum()\n",
        "\n",
        "  for i in range(due_to_varb):\n",
        "    power_bi['3MMT'+dt_col_names[i]+'_using_sales_index'] = Due_to['DT_'+dt_col_names[i]+'_using_sales_index'].rolling(3).sum()\n",
        "  ##############################################################################################################\n",
        "  for i in range(due_to_varb):\n",
        "    power_bi[dt_col_names[i]+'6MMT'] = dt_raw[dt_col_names[i]].rolling(6).sum()\n",
        "\n",
        "  for i in range(due_to_varb):\n",
        "    power_bi['6MMT'+dt_col_names[i]+'_using_sales_index'] = Due_to['DT_'+dt_col_names[i]+'_using_sales_index'].rolling(6).sum()\n",
        "  ##########################################################################################################\n",
        "  ############ power bi melt--part ###############################################################################\n",
        "  df_cat = pd.melt(power_bi, id_vars = ['States','Category', 'Date'], var_name='Metrics')\n",
        "  # df_cat.head(4)\n",
        "\n",
        "  #################################################################################################################\n",
        "  ###################################################################################################################################\n",
        "  ###########################################################################################################################################\n",
        "  ###########################################################################################################################################\n",
        "  estimatorts1 = estimatorts\n",
        "\n",
        "  with pd.ExcelWriter('Juices_March_Results_{}.xlsx'.format(all_state[sta]),datetime_format  = 'YYYY-MM-DD') as writer:  \n",
        "      coke_ols.to_excel(writer,    index=False, sheet_name = 'Ensemble')        \n",
        "      estimatorts1.to_excel(writer,index=False, sheet_name = 'RF+ANN+OLS')          \n",
        "      Due_to.to_excel(writer,      index=False, sheet_name = 'Due_to')          \n",
        "      power_bi.to_excel(writer,    index=False, sheet_name = 'bi')              \n",
        "      df_cat.to_excel(writer,      index=False, sheet_name = 'Power_BI')\n",
        "      "
      ],
      "execution_count": 3,
      "outputs": [
        {
          "output_type": "stream",
          "text": [
            "MAPE OLS: 9.571857255101543\n",
            "------------------------------------------------------------------------------------------------------\n",
            "Processing for state:  West Bengal\n",
            "(59, 6)\n",
            "(59, 1)\n",
            "(3, 6)\n",
            "(3, 1)\n"
          ],
          "name": "stdout"
        },
        {
          "output_type": "stream",
          "text": [
            "/usr/local/lib/python3.6/dist-packages/ipykernel_launcher.py:109: DataConversionWarning: A column-vector y was passed when a 1d array was expected. Please change the shape of y to (n_samples,), for example using ravel().\n"
          ],
          "name": "stderr"
        },
        {
          "output_type": "stream",
          "text": [
            "                           R_square for training data: 0.9953940100110832\n",
            "                           R_square for testing data: 0.9655527197971489\n",
            "                           MAPE for training data: 3.187974691173593\n",
            "                           MAPE for testing data: 5.874204671710262\n",
            "[0.00580795 0.00426355 0.00158656 0.00375236 0.59298299 0.3916066 ]\n",
            "RF mape:- 3.2652876316567108\n",
            "{'activation': 'relu', 'alpha': 0.0001, 'batch_size': 1, 'beta_1': 0.9, 'beta_2': 0.999, 'early_stopping': False, 'epsilon': 1e-08, 'hidden_layer_sizes': 256, 'learning_rate': 'constant', 'learning_rate_init': 0.001, 'max_fun': 15000, 'max_iter': 50, 'momentum': 0.9, 'n_iter_no_change': 10, 'nesterovs_momentum': True, 'power_t': 0.5, 'random_state': 1840, 'shuffle': True, 'solver': 'adam', 'tol': 0.0001, 'validation_fraction': 0.1, 'verbose': 0, 'warm_start': False}\n"
          ],
          "name": "stdout"
        },
        {
          "output_type": "stream",
          "text": [
            "/usr/local/lib/python3.6/dist-packages/sklearn/neural_network/_multilayer_perceptron.py:1342: DataConversionWarning: A column-vector y was passed when a 1d array was expected. Please change the shape of y to (n_samples, ), for example using ravel().\n",
            "  y = column_or_1d(y, warn=True)\n"
          ],
          "name": "stderr"
        },
        {
          "output_type": "stream",
          "text": [
            "                R_square for training data: 0.9727292190642672\n",
            "                R_square for testing data: 0.5537017847395499\n",
            "                MAPE for training data: 8.876203340929159\n",
            "                MAPE for testing data: 10.757392562454845\n",
            "ANN mape:- 8.824891663526744\n",
            "MAPE Ensemble: 4.031610173660293\n",
            "MAPE OLS: 7.703117197609423\n",
            "------------------------------------------------------------------------------------------------------\n",
            "Processing for state:  Delhi\n",
            "(59, 8)\n",
            "(59, 1)\n",
            "(3, 8)\n",
            "(3, 1)\n"
          ],
          "name": "stdout"
        },
        {
          "output_type": "stream",
          "text": [
            "/usr/local/lib/python3.6/dist-packages/ipykernel_launcher.py:109: DataConversionWarning: A column-vector y was passed when a 1d array was expected. Please change the shape of y to (n_samples,), for example using ravel().\n"
          ],
          "name": "stderr"
        },
        {
          "output_type": "stream",
          "text": [
            "                           R_square for training data: 0.9971143610958091\n",
            "                           R_square for testing data: 0.8634301193640166\n",
            "                           MAPE for training data: 2.3577322189466416\n",
            "                           MAPE for testing data: 12.925864167310984\n",
            "[4.36219556e-03 5.31722570e-03 4.14846477e-03 7.42652183e-03\n",
            " 4.37240133e-01 3.01379718e-04 9.39750355e-05 5.41110105e-01]\n",
            "RF mape:- 2.823552276504521\n",
            "{'activation': 'relu', 'alpha': 0.0001, 'batch_size': 1, 'beta_1': 0.9, 'beta_2': 0.999, 'early_stopping': False, 'epsilon': 1e-08, 'hidden_layer_sizes': 256, 'learning_rate': 'constant', 'learning_rate_init': 0.001, 'max_fun': 15000, 'max_iter': 50, 'momentum': 0.9, 'n_iter_no_change': 10, 'nesterovs_momentum': True, 'power_t': 0.5, 'random_state': 960, 'shuffle': True, 'solver': 'adam', 'tol': 0.0001, 'validation_fraction': 0.1, 'verbose': 0, 'warm_start': False}\n"
          ],
          "name": "stdout"
        },
        {
          "output_type": "stream",
          "text": [
            "/usr/local/lib/python3.6/dist-packages/sklearn/neural_network/_multilayer_perceptron.py:1342: DataConversionWarning: A column-vector y was passed when a 1d array was expected. Please change the shape of y to (n_samples, ), for example using ravel().\n",
            "  y = column_or_1d(y, warn=True)\n"
          ],
          "name": "stderr"
        },
        {
          "output_type": "stream",
          "text": [
            "                R_square for training data: 0.9650797532643541\n",
            "                R_square for testing data: 0.5006402252387174\n",
            "                MAPE for training data: 7.384933954656119\n",
            "                MAPE for testing data: 11.977281495598268\n",
            "ANN mape:- 7.486395997008028\n",
            "MAPE Ensemble: 3.6485562126044737\n",
            "MAPE OLS: 4.202354470919127\n",
            "------------------------------------------------------------------------------------------------------\n",
            "Processing for state:  Maharashtra\n",
            "(59, 8)\n",
            "(59, 1)\n",
            "(3, 8)\n",
            "(3, 1)\n"
          ],
          "name": "stdout"
        },
        {
          "output_type": "stream",
          "text": [
            "/usr/local/lib/python3.6/dist-packages/ipykernel_launcher.py:109: DataConversionWarning: A column-vector y was passed when a 1d array was expected. Please change the shape of y to (n_samples,), for example using ravel().\n"
          ],
          "name": "stderr"
        },
        {
          "output_type": "stream",
          "text": [
            "                           R_square for training data: 0.9971744846126033\n",
            "                           R_square for testing data: 0.8833267833532857\n",
            "                           MAPE for training data: 1.1990572333265184\n",
            "                           MAPE for testing data: 2.8162149122975677\n",
            "[2.20786985e-03 1.28603967e-03 2.68924046e-03 3.04400341e-03\n",
            " 7.09377795e-01 4.45304689e-05 8.99221893e-07 2.81349622e-01]\n",
            "RF mape:- 1.257032087351703\n",
            "{'activation': 'relu', 'alpha': 0.0001, 'batch_size': 1, 'beta_1': 0.9, 'beta_2': 0.999, 'early_stopping': False, 'epsilon': 1e-08, 'hidden_layer_sizes': 256, 'learning_rate': 'constant', 'learning_rate_init': 0.001, 'max_fun': 15000, 'max_iter': 50, 'momentum': 0.9, 'n_iter_no_change': 10, 'nesterovs_momentum': True, 'power_t': 0.5, 'random_state': 310, 'shuffle': True, 'solver': 'adam', 'tol': 0.0001, 'validation_fraction': 0.1, 'verbose': 0, 'warm_start': False}\n"
          ],
          "name": "stdout"
        },
        {
          "output_type": "stream",
          "text": [
            "/usr/local/lib/python3.6/dist-packages/sklearn/neural_network/_multilayer_perceptron.py:1342: DataConversionWarning: A column-vector y was passed when a 1d array was expected. Please change the shape of y to (n_samples, ), for example using ravel().\n",
            "  y = column_or_1d(y, warn=True)\n"
          ],
          "name": "stderr"
        },
        {
          "output_type": "stream",
          "text": [
            "                R_square for training data: 0.9762765779401287\n",
            "                R_square for testing data: 0.23531910465163475\n",
            "                MAPE for training data: 4.01254236544426\n",
            "                MAPE for testing data: 3.8995377823390256\n",
            "ANN mape:- 3.9434700461623553\n",
            "MAPE Ensemble: 1.6322145601559543\n",
            "MAPE OLS: 5.881126897569229\n",
            "------------------------------------------------------------------------------------------------------\n",
            "Processing for state:  Andhra Pradesh\n",
            "(59, 8)\n",
            "(59, 1)\n",
            "(3, 8)\n",
            "(3, 1)\n"
          ],
          "name": "stdout"
        },
        {
          "output_type": "stream",
          "text": [
            "/usr/local/lib/python3.6/dist-packages/ipykernel_launcher.py:109: DataConversionWarning: A column-vector y was passed when a 1d array was expected. Please change the shape of y to (n_samples,), for example using ravel().\n"
          ],
          "name": "stderr"
        },
        {
          "output_type": "stream",
          "text": [
            "                           R_square for training data: 0.9894225955777151\n",
            "                           R_square for testing data: -0.041401278967837074\n",
            "                           MAPE for training data: 1.3834302464264663\n",
            "                           MAPE for testing data: 7.028426811740855\n",
            "[1.12335832e-02 4.33025337e-02 2.66268118e-02 9.95329068e-03\n",
            " 2.25546512e-02 4.89574460e-02 2.05440175e-04 8.37166243e-01]\n",
            "RF mape:- 1.6302803964187949\n",
            "{'activation': 'relu', 'alpha': 0.0001, 'batch_size': 1, 'beta_1': 0.9, 'beta_2': 0.999, 'early_stopping': False, 'epsilon': 1e-08, 'hidden_layer_sizes': 256, 'learning_rate': 'constant', 'learning_rate_init': 0.001, 'max_fun': 15000, 'max_iter': 50, 'momentum': 0.9, 'n_iter_no_change': 10, 'nesterovs_momentum': True, 'power_t': 0.5, 'random_state': 210, 'shuffle': True, 'solver': 'adam', 'tol': 0.0001, 'validation_fraction': 0.1, 'verbose': 0, 'warm_start': False}\n"
          ],
          "name": "stdout"
        },
        {
          "output_type": "stream",
          "text": [
            "/usr/local/lib/python3.6/dist-packages/sklearn/neural_network/_multilayer_perceptron.py:1342: DataConversionWarning: A column-vector y was passed when a 1d array was expected. Please change the shape of y to (n_samples, ), for example using ravel().\n",
            "  y = column_or_1d(y, warn=True)\n",
            "/usr/local/lib/python3.6/dist-packages/sklearn/neural_network/_multilayer_perceptron.py:571: ConvergenceWarning: Stochastic Optimizer: Maximum iterations (50) reached and the optimization hasn't converged yet.\n",
            "  % self.max_iter, ConvergenceWarning)\n"
          ],
          "name": "stderr"
        },
        {
          "output_type": "stream",
          "text": [
            "                R_square for training data: 0.9786531636493297\n",
            "                R_square for testing data: 0.2520871522622278\n",
            "                MAPE for training data: 2.0589093805683905\n",
            "                MAPE for testing data: 1.9551469806761121\n",
            "ANN mape:- 2.02128721262799\n",
            "MAPE Ensemble: 1.9675839072079306\n",
            "MAPE OLS: 12.509049925909023\n",
            "------------------------------------------------------------------------------------------------------\n",
            "Processing for state:  Uttar Pradesh\n",
            "(59, 6)\n",
            "(59, 1)\n",
            "(3, 6)\n",
            "(3, 1)\n"
          ],
          "name": "stdout"
        },
        {
          "output_type": "stream",
          "text": [
            "/usr/local/lib/python3.6/dist-packages/ipykernel_launcher.py:109: DataConversionWarning: A column-vector y was passed when a 1d array was expected. Please change the shape of y to (n_samples,), for example using ravel().\n"
          ],
          "name": "stderr"
        },
        {
          "output_type": "stream",
          "text": [
            "                           R_square for training data: 0.9969947833740896\n",
            "                           R_square for testing data: 0.9776484752830854\n",
            "                           MAPE for training data: 3.4989454501209023\n",
            "                           MAPE for testing data: 11.350590043831405\n",
            "[0.01603093 0.00243379 0.00071211 0.00158757 0.53583916 0.44339645]\n",
            "RF mape:- 3.8172944712480548\n",
            "{'activation': 'relu', 'alpha': 0.0001, 'batch_size': 1, 'beta_1': 0.9, 'beta_2': 0.999, 'early_stopping': False, 'epsilon': 1e-08, 'hidden_layer_sizes': 256, 'learning_rate': 'constant', 'learning_rate_init': 0.001, 'max_fun': 15000, 'max_iter': 50, 'momentum': 0.9, 'n_iter_no_change': 10, 'nesterovs_momentum': True, 'power_t': 0.5, 'random_state': 4840, 'shuffle': True, 'solver': 'adam', 'tol': 0.0001, 'validation_fraction': 0.1, 'verbose': 0, 'warm_start': False}\n"
          ],
          "name": "stdout"
        },
        {
          "output_type": "stream",
          "text": [
            "/usr/local/lib/python3.6/dist-packages/sklearn/neural_network/_multilayer_perceptron.py:1342: DataConversionWarning: A column-vector y was passed when a 1d array was expected. Please change the shape of y to (n_samples, ), for example using ravel().\n",
            "  y = column_or_1d(y, warn=True)\n"
          ],
          "name": "stderr"
        },
        {
          "output_type": "stream",
          "text": [
            "                R_square for training data: 0.9806309070760676\n",
            "                R_square for testing data: 0.4957554590581076\n",
            "                MAPE for training data: 13.264556167879148\n",
            "                MAPE for testing data: 24.083450144240214\n",
            "ANN mape:- 13.569193084723658\n",
            "MAPE Ensemble: 4.868734615518129\n",
            "MAPE OLS: 6.4994516102843\n",
            "------------------------------------------------------------------------------------------------------\n",
            "Processing for state:  Punjab\n",
            "(59, 6)\n",
            "(59, 1)\n",
            "(3, 6)\n",
            "(3, 1)\n"
          ],
          "name": "stdout"
        },
        {
          "output_type": "stream",
          "text": [
            "/usr/local/lib/python3.6/dist-packages/ipykernel_launcher.py:109: DataConversionWarning: A column-vector y was passed when a 1d array was expected. Please change the shape of y to (n_samples,), for example using ravel().\n"
          ],
          "name": "stderr"
        },
        {
          "output_type": "stream",
          "text": [
            "                           R_square for training data: 0.9975859043476412\n",
            "                           R_square for testing data: 0.7723457727127427\n",
            "                           MAPE for training data: 2.3821627924968993\n",
            "                           MAPE for testing data: 18.029296927431787\n",
            "[0.0324783  0.01084564 0.00233185 0.00165316 0.49184034 0.4608507 ]\n",
            "RF mape:- 3.089452310152578\n",
            "{'activation': 'relu', 'alpha': 0.0001, 'batch_size': 1, 'beta_1': 0.9, 'beta_2': 0.999, 'early_stopping': False, 'epsilon': 1e-08, 'hidden_layer_sizes': 256, 'learning_rate': 'constant', 'learning_rate_init': 0.001, 'max_fun': 15000, 'max_iter': 50, 'momentum': 0.9, 'n_iter_no_change': 10, 'nesterovs_momentum': True, 'power_t': 0.5, 'random_state': 550, 'shuffle': True, 'solver': 'adam', 'tol': 0.0001, 'validation_fraction': 0.1, 'verbose': 0, 'warm_start': False}\n"
          ],
          "name": "stdout"
        },
        {
          "output_type": "stream",
          "text": [
            "/usr/local/lib/python3.6/dist-packages/sklearn/neural_network/_multilayer_perceptron.py:1342: DataConversionWarning: A column-vector y was passed when a 1d array was expected. Please change the shape of y to (n_samples, ), for example using ravel().\n",
            "  y = column_or_1d(y, warn=True)\n"
          ],
          "name": "stderr"
        },
        {
          "output_type": "stream",
          "text": [
            "                R_square for training data: 0.9766724729381848\n",
            "                R_square for testing data: -0.7000660735103694\n",
            "                MAPE for training data: 8.264919601643617\n",
            "                MAPE for testing data: 13.869517750964912\n",
            "ANN mape:- 8.400616027775685\n",
            "MAPE Ensemble: 4.044727812907498\n",
            "MAPE OLS: 4.406215244417267\n",
            "------------------------------------------------------------------------------------------------------\n",
            "Processing for state:  Karnataka\n",
            "(59, 9)\n",
            "(59, 1)\n",
            "(3, 9)\n",
            "(3, 1)\n"
          ],
          "name": "stdout"
        },
        {
          "output_type": "stream",
          "text": [
            "/usr/local/lib/python3.6/dist-packages/ipykernel_launcher.py:109: DataConversionWarning: A column-vector y was passed when a 1d array was expected. Please change the shape of y to (n_samples,), for example using ravel().\n"
          ],
          "name": "stderr"
        },
        {
          "output_type": "stream",
          "text": [
            "                           R_square for training data: 0.9900143352373751\n",
            "                           R_square for testing data: 0.9549594727867229\n",
            "                           MAPE for training data: 1.3893796536337046\n",
            "                           MAPE for testing data: 5.713590050877381\n",
            "[8.07894003e-03 7.14560019e-03 4.91967176e-03 1.54406582e-02\n",
            " 2.08518136e-01 1.55197305e-04 3.66609447e-04 2.13713156e-04\n",
            " 7.55161473e-01]\n",
            "RF mape:- 1.573240789159059\n",
            "{'activation': 'relu', 'alpha': 0.0001, 'batch_size': 1, 'beta_1': 0.9, 'beta_2': 0.999, 'early_stopping': False, 'epsilon': 1e-08, 'hidden_layer_sizes': 256, 'learning_rate': 'constant', 'learning_rate_init': 0.001, 'max_fun': 15000, 'max_iter': 50, 'momentum': 0.9, 'n_iter_no_change': 10, 'nesterovs_momentum': True, 'power_t': 0.5, 'random_state': 3870, 'shuffle': True, 'solver': 'adam', 'tol': 0.0001, 'validation_fraction': 0.1, 'verbose': 0, 'warm_start': False}\n"
          ],
          "name": "stdout"
        },
        {
          "output_type": "stream",
          "text": [
            "/usr/local/lib/python3.6/dist-packages/sklearn/neural_network/_multilayer_perceptron.py:1342: DataConversionWarning: A column-vector y was passed when a 1d array was expected. Please change the shape of y to (n_samples, ), for example using ravel().\n",
            "  y = column_or_1d(y, warn=True)\n"
          ],
          "name": "stderr"
        },
        {
          "output_type": "stream",
          "text": [
            "                R_square for training data: 0.895880838921973\n",
            "                R_square for testing data: 0.8479382515549242\n",
            "                MAPE for training data: 5.945053025490902\n",
            "                MAPE for testing data: 3.462450513050365\n",
            "ANN mape:- 5.732467937192291\n",
            "MAPE Ensemble: 2.0662984646235514\n",
            "MAPE OLS: 5.943659553285023\n",
            "------------------------------------------------------------------------------------------------------\n",
            "Processing for state:  Gujarat\n",
            "(59, 7)\n",
            "(59, 1)\n",
            "(3, 7)\n",
            "(3, 1)\n"
          ],
          "name": "stdout"
        },
        {
          "output_type": "stream",
          "text": [
            "/usr/local/lib/python3.6/dist-packages/ipykernel_launcher.py:109: DataConversionWarning: A column-vector y was passed when a 1d array was expected. Please change the shape of y to (n_samples,), for example using ravel().\n"
          ],
          "name": "stderr"
        },
        {
          "output_type": "stream",
          "text": [
            "                           R_square for training data: 0.9890019881110668\n",
            "                           R_square for testing data: 0.8098856555074286\n",
            "                           MAPE for training data: 2.2155259788937123\n",
            "                           MAPE for testing data: 8.721094377985901\n",
            "[0.05305142 0.0059097  0.00439931 0.01169485 0.01872284 0.00862853\n",
            " 0.89759336]\n",
            "RF mape:- 2.490147871248996\n",
            "{'activation': 'relu', 'alpha': 0.0001, 'batch_size': 1, 'beta_1': 0.9, 'beta_2': 0.999, 'early_stopping': False, 'epsilon': 1e-08, 'hidden_layer_sizes': 256, 'learning_rate': 'constant', 'learning_rate_init': 0.001, 'max_fun': 15000, 'max_iter': 50, 'momentum': 0.9, 'n_iter_no_change': 10, 'nesterovs_momentum': True, 'power_t': 0.5, 'random_state': 2780, 'shuffle': True, 'solver': 'adam', 'tol': 0.0001, 'validation_fraction': 0.1, 'verbose': 0, 'warm_start': False}\n"
          ],
          "name": "stdout"
        },
        {
          "output_type": "stream",
          "text": [
            "/usr/local/lib/python3.6/dist-packages/sklearn/neural_network/_multilayer_perceptron.py:1342: DataConversionWarning: A column-vector y was passed when a 1d array was expected. Please change the shape of y to (n_samples, ), for example using ravel().\n",
            "  y = column_or_1d(y, warn=True)\n"
          ],
          "name": "stderr"
        },
        {
          "output_type": "stream",
          "text": [
            "                R_square for training data: 0.9442975711354515\n",
            "                R_square for testing data: 0.7722743919078201\n",
            "                MAPE for training data: 5.7279083924130765\n",
            "                MAPE for testing data: 3.7267879290320027\n",
            "ANN mape:- 5.541697760943928\n",
            "MAPE Ensemble: 3.207268500369392\n",
            "MAPE OLS: 8.764533894597303\n",
            "------------------------------------------------------------------------------------------------------\n",
            "Processing for state:  Rajasthan\n",
            "(59, 6)\n",
            "(59, 1)\n",
            "(3, 6)\n",
            "(3, 1)\n"
          ],
          "name": "stdout"
        },
        {
          "output_type": "stream",
          "text": [
            "/usr/local/lib/python3.6/dist-packages/ipykernel_launcher.py:109: DataConversionWarning: A column-vector y was passed when a 1d array was expected. Please change the shape of y to (n_samples,), for example using ravel().\n"
          ],
          "name": "stderr"
        },
        {
          "output_type": "stream",
          "text": [
            "                           R_square for training data: 0.993054638525635\n",
            "                           R_square for testing data: 0.6342981558807341\n",
            "                           MAPE for training data: 4.117031006121753\n",
            "                           MAPE for testing data: 19.443947923814232\n",
            "[0.01058828 0.00437798 0.00565051 0.00294381 0.35201618 0.62442324]\n",
            "RF mape:- 4.781534494168668\n",
            "{'activation': 'relu', 'alpha': 0.0001, 'batch_size': 1, 'beta_1': 0.9, 'beta_2': 0.999, 'early_stopping': False, 'epsilon': 1e-08, 'hidden_layer_sizes': 256, 'learning_rate': 'constant', 'learning_rate_init': 0.001, 'max_fun': 15000, 'max_iter': 50, 'momentum': 0.9, 'n_iter_no_change': 10, 'nesterovs_momentum': True, 'power_t': 0.5, 'random_state': 4920, 'shuffle': True, 'solver': 'adam', 'tol': 0.0001, 'validation_fraction': 0.1, 'verbose': 0, 'warm_start': False}\n"
          ],
          "name": "stdout"
        },
        {
          "output_type": "stream",
          "text": [
            "/usr/local/lib/python3.6/dist-packages/sklearn/neural_network/_multilayer_perceptron.py:1342: DataConversionWarning: A column-vector y was passed when a 1d array was expected. Please change the shape of y to (n_samples, ), for example using ravel().\n",
            "  y = column_or_1d(y, warn=True)\n"
          ],
          "name": "stderr"
        },
        {
          "output_type": "stream",
          "text": [
            "                R_square for training data: 0.9538658235539459\n",
            "                R_square for testing data: 0.392346267680321\n",
            "                MAPE for training data: 10.374078701372586\n",
            "                MAPE for testing data: 8.600704654450512\n",
            "ANN mape:- 10.124964402291017\n",
            "MAPE Ensemble: 5.976339445881983\n",
            "MAPE OLS: 11.503303382835634\n",
            "------------------------------------------------------------------------------------------------------\n",
            "Processing for state:  Madhya Pradesh\n",
            "(59, 12)\n",
            "(59, 1)\n",
            "(3, 12)\n",
            "(3, 1)\n"
          ],
          "name": "stdout"
        },
        {
          "output_type": "stream",
          "text": [
            "/usr/local/lib/python3.6/dist-packages/ipykernel_launcher.py:109: DataConversionWarning: A column-vector y was passed when a 1d array was expected. Please change the shape of y to (n_samples,), for example using ravel().\n"
          ],
          "name": "stderr"
        },
        {
          "output_type": "stream",
          "text": [
            "                           R_square for training data: 0.9926565068502448\n",
            "                           R_square for testing data: 0.7979633132424889\n",
            "                           MAPE for training data: 4.495322872213572\n",
            "                           MAPE for testing data: 47.57468103506557\n",
            "[3.18895921e-03 3.86022664e-03 3.15091995e-03 4.29108619e-03\n",
            " 2.44091448e-02 5.86123249e-03 2.22697399e-05 5.87362173e-05\n",
            " 3.23309785e-04 2.58862324e-04 1.26106173e-05 9.54562642e-01]\n",
            "RF mape:- 6.475366548663452\n",
            "{'activation': 'relu', 'alpha': 0.0001, 'batch_size': 1, 'beta_1': 0.9, 'beta_2': 0.999, 'early_stopping': False, 'epsilon': 1e-08, 'hidden_layer_sizes': 256, 'learning_rate': 'constant', 'learning_rate_init': 0.001, 'max_fun': 15000, 'max_iter': 50, 'momentum': 0.9, 'n_iter_no_change': 10, 'nesterovs_momentum': True, 'power_t': 0.5, 'random_state': 920, 'shuffle': True, 'solver': 'adam', 'tol': 0.0001, 'validation_fraction': 0.1, 'verbose': 0, 'warm_start': False}\n"
          ],
          "name": "stdout"
        },
        {
          "output_type": "stream",
          "text": [
            "/usr/local/lib/python3.6/dist-packages/sklearn/neural_network/_multilayer_perceptron.py:1342: DataConversionWarning: A column-vector y was passed when a 1d array was expected. Please change the shape of y to (n_samples, ), for example using ravel().\n",
            "  y = column_or_1d(y, warn=True)\n"
          ],
          "name": "stderr"
        },
        {
          "output_type": "stream",
          "text": [
            "                R_square for training data: 0.9747372079251696\n",
            "                R_square for testing data: -0.8686732086174607\n",
            "                MAPE for training data: 11.421892653911936\n",
            "                MAPE for testing data: 19.381581566313812\n",
            "ANN mape:- 11.619625575868978\n",
            "MAPE Ensemble: 7.712127085087208\n",
            "MAPE OLS: 7.102041869243443\n",
            "------------------------------------------------------------------------------------------------------\n",
            "Processing for state:  Odisha\n",
            "(59, 7)\n",
            "(59, 1)\n",
            "(3, 7)\n",
            "(3, 1)\n"
          ],
          "name": "stdout"
        },
        {
          "output_type": "stream",
          "text": [
            "/usr/local/lib/python3.6/dist-packages/ipykernel_launcher.py:109: DataConversionWarning: A column-vector y was passed when a 1d array was expected. Please change the shape of y to (n_samples,), for example using ravel().\n"
          ],
          "name": "stderr"
        },
        {
          "output_type": "stream",
          "text": [
            "                           R_square for training data: 0.9922239656725368\n",
            "                           R_square for testing data: -0.5766391681949448\n",
            "                           MAPE for training data: 2.4292484704059643\n",
            "                           MAPE for testing data: 18.303932394777437\n",
            "[0.00613498 0.01075384 0.0112559  0.00797035 0.03758909 0.02780456\n",
            " 0.89849126]\n",
            "RF mape:- 3.1466263006076858\n",
            "{'activation': 'relu', 'alpha': 0.0001, 'batch_size': 1, 'beta_1': 0.9, 'beta_2': 0.999, 'early_stopping': False, 'epsilon': 1e-08, 'hidden_layer_sizes': 256, 'learning_rate': 'constant', 'learning_rate_init': 0.001, 'max_fun': 15000, 'max_iter': 50, 'momentum': 0.9, 'n_iter_no_change': 10, 'nesterovs_momentum': True, 'power_t': 0.5, 'random_state': 3380, 'shuffle': True, 'solver': 'adam', 'tol': 0.0001, 'validation_fraction': 0.1, 'verbose': 0, 'warm_start': False}\n"
          ],
          "name": "stdout"
        },
        {
          "output_type": "stream",
          "text": [
            "/usr/local/lib/python3.6/dist-packages/sklearn/neural_network/_multilayer_perceptron.py:1342: DataConversionWarning: A column-vector y was passed when a 1d array was expected. Please change the shape of y to (n_samples, ), for example using ravel().\n",
            "  y = column_or_1d(y, warn=True)\n"
          ],
          "name": "stderr"
        },
        {
          "output_type": "stream",
          "text": [
            "                R_square for training data: 0.9580574426896941\n",
            "                R_square for testing data: -21.912263092443023\n",
            "                MAPE for training data: 5.811424889644678\n",
            "                MAPE for testing data: 17.311375945726585\n",
            "ANN mape:- 6.2667967670827895\n",
            "MAPE Ensemble: 4.195345346225526\n",
            "MAPE OLS: 7.950006833214393\n",
            "------------------------------------------------------------------------------------------------------\n",
            "Processing for state:  Bihar\n",
            "(59, 9)\n",
            "(59, 1)\n",
            "(3, 9)\n",
            "(3, 1)\n"
          ],
          "name": "stdout"
        },
        {
          "output_type": "stream",
          "text": [
            "/usr/local/lib/python3.6/dist-packages/ipykernel_launcher.py:109: DataConversionWarning: A column-vector y was passed when a 1d array was expected. Please change the shape of y to (n_samples,), for example using ravel().\n"
          ],
          "name": "stderr"
        },
        {
          "output_type": "stream",
          "text": [
            "                           R_square for training data: 0.9989911909893195\n",
            "                           R_square for testing data: 0.9840909153230778\n",
            "                           MAPE for training data: 2.952380439622021\n",
            "                           MAPE for testing data: 6.715720216465317\n",
            "[3.11213969e-02 1.09017704e-03 8.49582563e-04 4.36629321e-04\n",
            " 4.87770708e-01 8.79156483e-05 1.28522673e-05 9.97148202e-06\n",
            " 4.78620767e-01]\n",
            "RF mape:- 3.0847239140808758\n",
            "{'activation': 'relu', 'alpha': 0.0001, 'batch_size': 1, 'beta_1': 0.9, 'beta_2': 0.999, 'early_stopping': False, 'epsilon': 1e-08, 'hidden_layer_sizes': 256, 'learning_rate': 'constant', 'learning_rate_init': 0.001, 'max_fun': 15000, 'max_iter': 50, 'momentum': 0.9, 'n_iter_no_change': 10, 'nesterovs_momentum': True, 'power_t': 0.5, 'random_state': 3670, 'shuffle': True, 'solver': 'adam', 'tol': 0.0001, 'validation_fraction': 0.1, 'verbose': 0, 'warm_start': False}\n"
          ],
          "name": "stdout"
        },
        {
          "output_type": "stream",
          "text": [
            "/usr/local/lib/python3.6/dist-packages/sklearn/neural_network/_multilayer_perceptron.py:1342: DataConversionWarning: A column-vector y was passed when a 1d array was expected. Please change the shape of y to (n_samples, ), for example using ravel().\n",
            "  y = column_or_1d(y, warn=True)\n"
          ],
          "name": "stderr"
        },
        {
          "output_type": "stream",
          "text": [
            "                R_square for training data: 0.9880879631265299\n",
            "                R_square for testing data: 0.7502885173590442\n",
            "                MAPE for training data: 5.967897011134812\n",
            "                MAPE for testing data: 12.848097545424602\n",
            "ANN mape:- 6.200797084019487\n",
            "MAPE Ensemble: 3.4522952807581793\n",
            "MAPE OLS: 8.685458343121603\n",
            "------------------------------------------------------------------------------------------------------\n",
            "Processing for state:  Chhattisgarh\n",
            "(59, 6)\n",
            "(59, 1)\n",
            "(3, 6)\n",
            "(3, 1)\n"
          ],
          "name": "stdout"
        },
        {
          "output_type": "stream",
          "text": [
            "/usr/local/lib/python3.6/dist-packages/ipykernel_launcher.py:109: DataConversionWarning: A column-vector y was passed when a 1d array was expected. Please change the shape of y to (n_samples,), for example using ravel().\n"
          ],
          "name": "stderr"
        },
        {
          "output_type": "stream",
          "text": [
            "                           R_square for training data: 0.9964019611122583\n",
            "                           R_square for testing data: 0.879789311374056\n",
            "                           MAPE for training data: 3.0404453753716254\n",
            "                           MAPE for testing data: 17.57025768930053\n",
            "[0.0023063  0.00293224 0.001777   0.00537053 0.57077794 0.41683599]\n",
            "RF mape:- 3.6840801621401185\n",
            "{'activation': 'relu', 'alpha': 0.0001, 'batch_size': 1, 'beta_1': 0.9, 'beta_2': 0.999, 'early_stopping': False, 'epsilon': 1e-08, 'hidden_layer_sizes': 256, 'learning_rate': 'constant', 'learning_rate_init': 0.001, 'max_fun': 15000, 'max_iter': 50, 'momentum': 0.9, 'n_iter_no_change': 10, 'nesterovs_momentum': True, 'power_t': 0.5, 'random_state': 3200, 'shuffle': True, 'solver': 'adam', 'tol': 0.0001, 'validation_fraction': 0.1, 'verbose': 0, 'warm_start': False}\n"
          ],
          "name": "stdout"
        },
        {
          "output_type": "stream",
          "text": [
            "/usr/local/lib/python3.6/dist-packages/sklearn/neural_network/_multilayer_perceptron.py:1342: DataConversionWarning: A column-vector y was passed when a 1d array was expected. Please change the shape of y to (n_samples, ), for example using ravel().\n",
            "  y = column_or_1d(y, warn=True)\n"
          ],
          "name": "stderr"
        },
        {
          "output_type": "stream",
          "text": [
            "                R_square for training data: 0.9853434792485638\n",
            "                R_square for testing data: -0.5740446501917078\n",
            "                MAPE for training data: 11.052410901223647\n",
            "                MAPE for testing data: 16.668135125950798\n",
            "ANN mape:- 11.144391246826151\n",
            "MAPE Ensemble: 4.606334713794845\n",
            "MAPE OLS: 10.907830509820885\n",
            "------------------------------------------------------------------------------------------------------\n",
            "Processing for state:  Haryana\n",
            "(59, 7)\n",
            "(59, 1)\n",
            "(3, 7)\n",
            "(3, 1)\n"
          ],
          "name": "stdout"
        },
        {
          "output_type": "stream",
          "text": [
            "/usr/local/lib/python3.6/dist-packages/ipykernel_launcher.py:109: DataConversionWarning: A column-vector y was passed when a 1d array was expected. Please change the shape of y to (n_samples,), for example using ravel().\n"
          ],
          "name": "stderr"
        },
        {
          "output_type": "stream",
          "text": [
            "                           R_square for training data: 0.9936417357251822\n",
            "                           R_square for testing data: 0.8186030570158344\n",
            "                           MAPE for training data: 3.7797475405808276\n",
            "                           MAPE for testing data: 26.632111577231267\n",
            "[0.0057683  0.02012602 0.00897555 0.00681134 0.00766741 0.05873425\n",
            " 0.89191713]\n",
            "RF mape:- 4.807959359142265\n",
            "{'activation': 'relu', 'alpha': 0.0001, 'batch_size': 1, 'beta_1': 0.9, 'beta_2': 0.999, 'early_stopping': False, 'epsilon': 1e-08, 'hidden_layer_sizes': 256, 'learning_rate': 'constant', 'learning_rate_init': 0.001, 'max_fun': 15000, 'max_iter': 50, 'momentum': 0.9, 'n_iter_no_change': 10, 'nesterovs_momentum': True, 'power_t': 0.5, 'random_state': 3530, 'shuffle': True, 'solver': 'adam', 'tol': 0.0001, 'validation_fraction': 0.1, 'verbose': 0, 'warm_start': False}\n"
          ],
          "name": "stdout"
        },
        {
          "output_type": "stream",
          "text": [
            "/usr/local/lib/python3.6/dist-packages/sklearn/neural_network/_multilayer_perceptron.py:1342: DataConversionWarning: A column-vector y was passed when a 1d array was expected. Please change the shape of y to (n_samples, ), for example using ravel().\n",
            "  y = column_or_1d(y, warn=True)\n"
          ],
          "name": "stderr"
        },
        {
          "output_type": "stream",
          "text": [
            "                R_square for training data: 0.9236814723005096\n",
            "                R_square for testing data: -1.2000952991835527\n",
            "                MAPE for training data: 13.102791482315515\n",
            "                MAPE for testing data: 19.706888465668644\n",
            "ANN mape:- 13.209291473867005\n",
            "MAPE Ensemble: 6.130380879092847\n",
            "MAPE OLS: 8.565128303270077\n",
            "------------------------------------------------------------------------------------------------------\n",
            "Processing for state:  Tamil Nadu\n",
            "(59, 7)\n",
            "(59, 1)\n",
            "(3, 7)\n",
            "(3, 1)\n"
          ],
          "name": "stdout"
        },
        {
          "output_type": "stream",
          "text": [
            "/usr/local/lib/python3.6/dist-packages/ipykernel_launcher.py:109: DataConversionWarning: A column-vector y was passed when a 1d array was expected. Please change the shape of y to (n_samples,), for example using ravel().\n"
          ],
          "name": "stderr"
        },
        {
          "output_type": "stream",
          "text": [
            "                           R_square for training data: 0.9692157847547526\n",
            "                           R_square for testing data: -1.0654974110211493\n",
            "                           MAPE for training data: 2.523236249246232\n",
            "                           MAPE for testing data: 35.110527396857364\n",
            "[0.34030758 0.03878017 0.01358832 0.0397482  0.02424912 0.0127371\n",
            " 0.53058951]\n",
            "RF mape:- 4.034960649144441\n",
            "{'activation': 'relu', 'alpha': 0.0001, 'batch_size': 1, 'beta_1': 0.9, 'beta_2': 0.999, 'early_stopping': False, 'epsilon': 1e-08, 'hidden_layer_sizes': 256, 'learning_rate': 'constant', 'learning_rate_init': 0.001, 'max_fun': 15000, 'max_iter': 50, 'momentum': 0.9, 'n_iter_no_change': 10, 'nesterovs_momentum': True, 'power_t': 0.5, 'random_state': 3380, 'shuffle': True, 'solver': 'adam', 'tol': 0.0001, 'validation_fraction': 0.1, 'verbose': 0, 'warm_start': False}\n"
          ],
          "name": "stdout"
        },
        {
          "output_type": "stream",
          "text": [
            "/usr/local/lib/python3.6/dist-packages/sklearn/neural_network/_multilayer_perceptron.py:1342: DataConversionWarning: A column-vector y was passed when a 1d array was expected. Please change the shape of y to (n_samples, ), for example using ravel().\n",
            "  y = column_or_1d(y, warn=True)\n"
          ],
          "name": "stderr"
        },
        {
          "output_type": "stream",
          "text": [
            "                R_square for training data: 0.7716614915050348\n",
            "                R_square for testing data: -22.345171598736027\n",
            "                MAPE for training data: 7.331674245658577\n",
            "                MAPE for testing data: 30.273183264253316\n",
            "ANN mape:- 8.30775127439073\n",
            "MAPE Ensemble: 5.330592736294499\n"
          ],
          "name": "stdout"
        }
      ]
    },
    {
      "cell_type": "code",
      "metadata": {
        "id": "qDqFwxZtrBve",
        "colab_type": "code",
        "colab": {}
      },
      "source": [
        "wb = pd.read_excel('Juices_March_Results_WB.xlsx',sheet_name='Power_BI') \n",
        "de = pd.read_excel('Juices_March_Results_DE.xlsx',sheet_name='Power_BI')  \n",
        "mh = pd.read_excel('Juices_March_Results_MH.xlsx',sheet_name='Power_BI') \n",
        "ap = pd.read_excel('Juices_March_Results_AP.xlsx',sheet_name='Power_BI') \n",
        "up = pd.read_excel('Juices_March_Results_UP.xlsx',sheet_name='Power_BI') \n",
        "pu = pd.read_excel('Juices_March_Results_PU.xlsx',sheet_name='Power_BI') \n",
        "ka = pd.read_excel('Juices_March_Results_KA.xlsx',sheet_name='Power_BI') \n",
        "gu = pd.read_excel('Juices_March_Results_GU.xlsx',sheet_name='Power_BI') \n",
        "ra = pd.read_excel('Juices_March_Results_RA.xlsx',sheet_name='Power_BI') \n",
        "mp = pd.read_excel('Juices_March_Results_MP.xlsx',sheet_name='Power_BI') \n",
        "orr = pd.read_excel('Juices_March_Results_OR.xlsx',sheet_name='Power_BI') \n",
        "bi = pd.read_excel('Juices_March_Results_BI.xlsx',sheet_name='Power_BI') \n",
        "ch = pd.read_excel('Juices_March_Results_CH.xlsx',sheet_name='Power_BI') \n",
        "ha = pd.read_excel('Juices_March_Results_HA.xlsx',sheet_name='Power_BI') \n",
        "tn = pd.read_excel('Juices_March_Results_TN.xlsx',sheet_name='Power_BI')\n",
        "\n",
        "merge1=wb.append(de)\n",
        "merge2=merge1.append(mh)\n",
        "merge3=merge2.append(ap)\n",
        "merge4=merge3.append(up)\n",
        "merge5=merge4.append(pu)\n",
        "merge6=merge5.append(ka)\n",
        "merge7=merge6.append(gu)\n",
        "merge8=merge7.append(ra)\n",
        "merge9=merge8.append(mp)\n",
        "merge10=merge9.append(orr)\n",
        "merge11=merge10.append(bi)\n",
        "merge12=merge11.append(ch)\n",
        "merge13=merge12.append(ha)\n",
        "merge14=merge13.append(tn)\n",
        "\n",
        "merge14.to_excel('Juices_Data_Update_for_March_Power_BI_Consolidated_new.xlsx',index=False)"
      ],
      "execution_count": 0,
      "outputs": []
    },
    {
      "cell_type": "code",
      "metadata": {
        "id": "9tp5NmG1d0RD",
        "colab_type": "code",
        "colab": {}
      },
      "source": [
        ""
      ],
      "execution_count": 0,
      "outputs": []
    }
  ]
}