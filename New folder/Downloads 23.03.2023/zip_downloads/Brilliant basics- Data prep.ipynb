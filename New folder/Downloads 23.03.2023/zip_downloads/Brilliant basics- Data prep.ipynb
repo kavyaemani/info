{
 "cells": [
  {
   "cell_type": "code",
   "execution_count": 4,
   "id": "aa9dab5a",
   "metadata": {},
   "outputs": [
    {
     "name": "stderr",
     "output_type": "stream",
     "text": [
      "C:\\Users\\GowthamPSabareesan\\AppData\\Local\\Temp\\ipykernel_10320\\3922612611.py:20: FutureWarning: In a future version of pandas all arguments of DataFrame.drop except for the argument 'labels' will be keyword-only.\n",
      "  df1.drop(df1.columns[1:6],1,inplace=True)\n"
     ]
    }
   ],
   "source": [
    "import pandas as pd\n",
    "import numpy as np\n",
    "import os\n",
    "os.chdir(r'D:\\Old Account\\Ecomm\\Oechsle\\Raw data\\FB BB')\n",
    "\n",
    "df = pd.read_excel('Data_Oechsle_MMM_VF.xlsx',sheet_name='Sheet4')\n",
    "\n",
    "\n",
    "#Label creation\n",
    "df1 = df.pivot_table(index='Identificador de la campaña',values=['Duration','Frecuencia','Reach'],\n",
    "                     aggfunc={'Duration':'mean','Frecuencia':'mean','Reach':'sum'}).reset_index()\n",
    "df1['Avg Freq'] = df1['Frecuencia']/df1['Duration']\n",
    "df1['Reach %'] = df1['Reach']/33000000\n",
    "\n",
    "df1['Duration Label'] = np.where(df1['Duration']<2,'Sub optimal',np.where(df1['Duration'].between(2,4),'Opportunity to improve',\n",
    "                                                                         'Optimal'))\n",
    "df1['Frequency Label'] = np.where(df1['Avg Freq']<1,'Sub optimal','Optimal')\n",
    "df1['Reach Label'] = np.where(df1['Reach %']<=0.2,'Sub optimal',np.where(df1['Reach %'].between(0.2,0.4),'Opportunity to improve',\n",
    "                                                                         'Optimal'))\n",
    "df1.drop(df1.columns[1:6],1,inplace=True)\n",
    "\n",
    "df2 = pd.merge(df,df1,on='Identificador de la campaña', how='left')"
   ]
  },
  {
   "cell_type": "code",
   "execution_count": 5,
   "id": "dff67612",
   "metadata": {},
   "outputs": [],
   "source": [
    "df3 = pd.read_csv('Oeschle_FB_data_country_23.04.2022.csv',parse_dates=['Date'])\n",
    "test = df3.drop_duplicates(['Campaign ID','Placement'])\n",
    "so = ['Link clicks','Post engagement']\n",
    "op = ['Reach','Brand awareness','Video views','Conversions','Product catalog sales','Traffic','Store traffic','Store visits']\n",
    "df3['Objective Label']= np.where(df3['Campaign Objective'].isin(op),'Optimal',\n",
    "                                 np.where(df3['Campaign Objective'].isin(so),'Sub Optimal','Opportunity to improve'))\n",
    "df3['Placement Count'] = df3['Campaign ID'].map(test['Campaign ID'].value_counts().to_dict())\n",
    "df3['Placement Label'] = np.where(df3['Placement Count']<4,'Sub Optimal','Optimal')\n",
    "df3.rename(columns={'Campaign ID':'Identificador de la campaña'},inplace=True)\n",
    "df03 = df3.drop_duplicates('Identificador de la campaña')"
   ]
  },
  {
   "cell_type": "code",
   "execution_count": 6,
   "id": "4b8742d0",
   "metadata": {},
   "outputs": [],
   "source": [
    "df4 = pd.merge(df2,df03[['Identificador de la campaña','Objective Label','Placement Label']],on='Identificador de la campaña',\n",
    "              how='left')\n",
    "for i in df4.columns[-5:]:\n",
    "    df4[i + ' points'] = np.where(df4[i]=='Optimal',2, np.where(df4[i]=='Sub Optimal',0,1))\n",
    "df4['Total Points'] = df4[df4.columns[-5:]].sum(1)\n",
    "df4['Total Label'] = np.where(df4['Total Points']<=3,'Sub Optimal',\n",
    "                              np.where(df4['Total Points'].between(4,7),'Opprotunity to improve','Optimal'))\n",
    "df4.to_excel('Oechsle_Processed_Meta_BB_data_16Oct.xlsx')"
   ]
  }
 ],
 "metadata": {
  "kernelspec": {
   "display_name": "Python 3 (ipykernel)",
   "language": "python",
   "name": "python3"
  },
  "language_info": {
   "codemirror_mode": {
    "name": "ipython",
    "version": 3
   },
   "file_extension": ".py",
   "mimetype": "text/x-python",
   "name": "python",
   "nbconvert_exporter": "python",
   "pygments_lexer": "ipython3",
   "version": "3.9.12"
  }
 },
 "nbformat": 4,
 "nbformat_minor": 5
}
